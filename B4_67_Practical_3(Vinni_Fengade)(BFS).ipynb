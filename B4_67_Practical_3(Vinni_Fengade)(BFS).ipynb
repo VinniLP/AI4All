{
 "cells": [
  {
   "cell_type": "markdown",
   "id": "5224bfac",
   "metadata": {},
   "source": [
    "## $\\hspace{90pt}$Artificial Intelligence Lab (CSP356)\n",
    "## $\\hspace{120pt}$ Practical 3 - BFS "
   ]
  },
  {
   "cell_type": "markdown",
   "id": "0eed5a02",
   "metadata": {},
   "source": [
    "## Aim :- "
   ]
  },
  {
   "cell_type": "markdown",
   "id": "6bbc7eec",
   "metadata": {},
   "source": [
    "**Write a program to implement Breadth First Search. Take a graph and start/goal node an input. Your job is to find goal node. Print the total cost and path**"
   ]
  },
  {
   "cell_type": "markdown",
   "id": "fba96e7f",
   "metadata": {},
   "source": [
    "### Implementing BFS Algorithm"
   ]
  },
  {
   "cell_type": "code",
   "execution_count": 15,
   "id": "64ce1945",
   "metadata": {},
   "outputs": [],
   "source": [
    "def bfs(graph,s,goal):\n",
    "    parent=[-1]*(len(graph)+1)        # initialize parent list\n",
    "    visited=[False]*(len(graph)+1)      # initialize visited list\n",
    "    queue=[]                            # frontier \n",
    "    queue.append(s)\n",
    "    visited[s]=True\n",
    "    path=[]\n",
    "    sum=0\n",
    "    while queue:\n",
    "        a=queue.pop(0)\n",
    "        if(a==goal):\n",
    "            while (parent[a]!=-1):\n",
    "                sum+=graph[parent[a]][a]     #calculate distance\n",
    "                path.append(a)\n",
    "                a=parent[a]\n",
    "            path.append(a)\n",
    "            print(\"Goal  Reached in  : -\", sum,\"cost (\",len(path),\"steps)\",)\n",
    "            print(\"Path followed is  : - \",end=\"\")\n",
    "            for itr,i in enumerate(path):\n",
    "                print(i,end=\"\")\n",
    "                if(itr != len(path)-1):\n",
    "                    print(\" -> \",end=\"\")\n",
    "            break\n",
    "        for i in range(0,len(graph)):\n",
    "            if(visited[i]==False and graph[a][i]!=-1 and graph[a][i]!=0):\n",
    "                parent[i]=a\n",
    "                queue.append(i)\n",
    "                visited[i]=True"
   ]
  },
  {
   "cell_type": "markdown",
   "id": "5b53e989",
   "metadata": {},
   "source": [
    "### Initialise adjacency matrix"
   ]
  },
  {
   "cell_type": "code",
   "execution_count": 13,
   "id": "65884536",
   "metadata": {},
   "outputs": [],
   "source": [
    "# A=0 B=1 C=2 D=3 E=4 F=5\n",
    "graph=[[0,3,2,-1,-1,5],\n",
    "       [3,0,1,6,-1,-1],\n",
    "       [2,1,0,3,4,-1],\n",
    "       [-1,6,3,0,3,-1],\n",
    "       [-1,-1,4,3,0,2],\n",
    "       [5,-1,-1,-1,2,0]]"
   ]
  },
  {
   "cell_type": "markdown",
   "id": "237709e5",
   "metadata": {},
   "source": [
    "### Execution"
   ]
  },
  {
   "cell_type": "code",
   "execution_count": 16,
   "id": "ac39bf81",
   "metadata": {},
   "outputs": [
    {
     "name": "stdout",
     "output_type": "stream",
     "text": [
      "Goal  Reached in  : - 8 cost ( 3 steps)\n",
      "Path followed is  : - 5 -> 0 -> 1"
     ]
    }
   ],
   "source": [
    "# A=0{Mumbai} B=1{Bengluru} C=2{Hyderbad} D=3{Kolkata} E=4{Lucknow} F=5{New Delhi}\n",
    "initial = 5 \n",
    "goal = 1\n",
    "bfs(graph,goal,initial)       "
   ]
  },
  {
   "cell_type": "code",
   "execution_count": 7,
   "id": "3bd6d5f3",
   "metadata": {},
   "outputs": [
    {
     "data": {
      "text/plain": [
       "6"
      ]
     },
     "execution_count": 7,
     "metadata": {},
     "output_type": "execute_result"
    }
   ],
   "source": [
    "len(graph)"
   ]
  }
 ],
 "metadata": {
  "kernelspec": {
   "display_name": "Python 3 (ipykernel)",
   "language": "python",
   "name": "python3"
  },
  "language_info": {
   "codemirror_mode": {
    "name": "ipython",
    "version": 3
   },
   "file_extension": ".py",
   "mimetype": "text/x-python",
   "name": "python",
   "nbconvert_exporter": "python",
   "pygments_lexer": "ipython3",
   "version": "3.9.13"
  }
 },
 "nbformat": 4,
 "nbformat_minor": 5
}
