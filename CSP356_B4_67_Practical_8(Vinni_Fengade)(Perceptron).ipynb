{
 "cells": [
  {
   "cell_type": "markdown",
   "id": "6d9b2f28",
   "metadata": {},
   "source": [
    "## $\\hspace{105pt}$Artificial Intelligence Lab (CSP356)\n",
    "## $\\hspace{120pt}$ Practical  - 8    Perceptron"
   ]
  },
  {
   "cell_type": "markdown",
   "id": "ffa07a0b",
   "metadata": {},
   "source": [
    "## Aim :- "
   ]
  },
  {
   "cell_type": "markdown",
   "id": "21474f6e",
   "metadata": {},
   "source": [
    "**Write a program to implement perceptron learning algorithm for two input AND, OR, NAND and NOR gate classification. Initialize\n",
    "weights randomly in 1 to 10. Use similar initial weights for learning all the GATE classifications. Display number of iterations required in each case.**"
   ]
  },
  {
   "cell_type": "code",
   "execution_count": 14,
   "id": "7f02108e",
   "metadata": {},
   "outputs": [
    {
     "name": "stdout",
     "output_type": "stream",
     "text": [
      "AND gate:\n",
      "Number of iterations: 9\n",
      "Weights: [1.6841559085065745, 3.0157427920158284, -4.331218785190546]\n",
      "\n",
      "OR gate:\n",
      "Number of iterations: 10\n",
      "Weights: [4.373925694632138, 2.828562366271932, -0.04700739126789877]\n",
      "\n",
      "NAND gate:\n",
      "Number of iterations: 10\n",
      "Weights: [-0.9573782120070558, -1.9217756958846515, 2.809421897101071]\n",
      "\n",
      "NOR gate:\n",
      "Number of iterations: 9\n",
      "Weights: [-1.4198224171318774, -3.4913107602408116, 0.9269471066180701]\n"
     ]
    }
   ],
   "source": [
    "import random\n",
    "\n",
    "# Perceptron class\n",
    "class Perceptron:\n",
    "    def __init__(self):\n",
    "        # Initialize weights randomly between 1 and 10\n",
    "        self.weights = [random.uniform(1, 10) for i in range(3)]\n",
    "\n",
    "    # Activation function\n",
    "    def activate(self, inputs):\n",
    "        activation = 0\n",
    "        for i in range(len(inputs)):\n",
    "            activation += self.weights[i] * inputs[i]\n",
    "        return 1 if activation >= 0 else 0\n",
    "\n",
    "    # Train function\n",
    "    def train(self, training_inputs, labels):\n",
    "        iterations = 0\n",
    "        while True:\n",
    "            error_count = 0\n",
    "            for i in range(len(training_inputs)):\n",
    "                prediction = self.activate(training_inputs[i])\n",
    "                error = labels[i] - prediction\n",
    "                if error != 0:\n",
    "                    # Update weights\n",
    "                    for j in range(len(self.weights)):\n",
    "                        self.weights[j] += error * training_inputs[i][j]\n",
    "                    error_count += 1\n",
    "            iterations += 1\n",
    "            if error_count == 0:\n",
    "                break\n",
    "        return iterations\n",
    "\n",
    "# Training data\n",
    "and_inputs = [[0, 0, 1], [0, 1, 1], [1, 0, 1], [1, 1, 1]]\n",
    "and_labels = [0, 0, 0, 1]\n",
    "\n",
    "or_inputs = [[0, 0, 1], [0, 1, 1], [1, 0, 1], [1, 1, 1]]\n",
    "or_labels = [0, 1, 1, 1]\n",
    "\n",
    "nand_inputs = [[0, 0, 1], [0, 1, 1], [1, 0, 1], [1, 1, 1]]\n",
    "nand_labels = [1, 1, 1, 0]\n",
    "\n",
    "nor_inputs = [[0, 0, 1], [0, 1, 1], [1, 0, 1], [1, 1, 1]]\n",
    "nor_labels = [1, 0, 0, 0]\n",
    "\n",
    "# Create perceptrons\n",
    "and_perceptron = Perceptron()\n",
    "or_perceptron = Perceptron()\n",
    "nand_perceptron = Perceptron()\n",
    "nor_perceptron = Perceptron()\n",
    "\n",
    "# Train perceptrons\n",
    "and_iterations = and_perceptron.train(and_inputs, and_labels)\n",
    "or_iterations = or_perceptron.train(or_inputs, or_labels)\n",
    "nand_iterations = nand_perceptron.train(nand_inputs, nand_labels)\n",
    "nor_iterations = nor_perceptron.train(nor_inputs, nor_labels)\n",
    "\n",
    "# Print results\n",
    "print(\"AND gate:\")\n",
    "print(\"Number of iterations:\", and_iterations)\n",
    "print(\"Weights:\", and_perceptron.weights)\n",
    "\n",
    "print(\"\")\n",
    "print(\"OR gate:\")\n",
    "print(\"Number of iterations:\", or_iterations)\n",
    "print(\"Weights:\", or_perceptron.weights)\n",
    "\n",
    "print(\"\")\n",
    "print(\"NAND gate:\")\n",
    "print(\"Number of iterations:\", nand_iterations)\n",
    "print(\"Weights:\", nand_perceptron.weights)\n",
    "\n",
    "print(\"\")\n",
    "print(\"NOR gate:\")\n",
    "print(\"Number of iterations:\", nor_iterations)\n",
    "print(\"Weights:\", nor_perceptron.weights)\n"
   ]
  }
 ],
 "metadata": {
  "kernelspec": {
   "display_name": "Python 3 (ipykernel)",
   "language": "python",
   "name": "python3"
  },
  "language_info": {
   "codemirror_mode": {
    "name": "ipython",
    "version": 3
   },
   "file_extension": ".py",
   "mimetype": "text/x-python",
   "name": "python",
   "nbconvert_exporter": "python",
   "pygments_lexer": "ipython3",
   "version": "3.9.13"
  }
 },
 "nbformat": 4,
 "nbformat_minor": 5
}
