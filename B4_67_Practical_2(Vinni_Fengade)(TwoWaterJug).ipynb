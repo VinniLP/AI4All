{
 "cells": [
  {
   "cell_type": "markdown",
   "id": "5224bfac",
   "metadata": {},
   "source": [
    "## $\\hspace{90pt}$Artificial Intelligence Lab (CSP356)\n",
    "## $\\hspace{105pt}$ Practical 2- Two Water  Jug"
   ]
  },
  {
   "cell_type": "markdown",
   "id": "0eed5a02",
   "metadata": {},
   "source": [
    "## Aim :- "
   ]
  },
  {
   "cell_type": "markdown",
   "id": "6bbc7eec",
   "metadata": {},
   "source": [
    "**Write a program to implement the two water jug problem to understand the state space search.**"
   ]
  },
  {
   "cell_type": "markdown",
   "id": "fba96e7f",
   "metadata": {},
   "source": [
    "### Implementing Operators for Two Water Jug"
   ]
  },
  {
   "cell_type": "code",
   "execution_count": 1,
   "id": "64ce1945",
   "metadata": {},
   "outputs": [],
   "source": [
    "def fillA(arr):\n",
    "    print(\"Filling     A    \",end=\" \")\n",
    "    arr[0]=a\n",
    "    print(arr[0],\"     \",arr[1])\n",
    "   \n",
    "def fillB(arr):\n",
    "    print(\"Filling     B     \",end=\" \")\n",
    "    arr[1]=b\n",
    "    print(arr[0],\"     \",arr[1])\n",
    "\n",
    "def emptyA(arr):\n",
    "    print(\"Emptying    A     \",end=\" \")\n",
    "    arr[0]=0\n",
    "    print(arr[0],\"     \",arr[1])\n",
    "\n",
    "def emptyB(arr):\n",
    "    print(\"Emptying    B    \",end=\" \")\n",
    "    arr[1]=0  \n",
    "    print(arr[0],\"     \",arr[1])\n",
    "\n",
    "def AtoB(arr):\n",
    "    print(\"Filling  A to B  \",end=\" \")\n",
    "    diff=b-arr[1]\n",
    "    if(arr[0]<=diff):\n",
    "        arr[1]=arr[1]+arr[0]\n",
    "        arr[0]=0\n",
    "    else:\n",
    "        arr[0]=arr[0]-diff\n",
    "        arr[1]=arr[1]+diff\n",
    "    print(arr[0],\"     \",arr[1])\n",
    "\n",
    "def BtoA(arr):\n",
    "    print(\"Filling  B to A  \",end=\" \")\n",
    "    diff=5-arr[0]\n",
    "    if(arr[1]<=diff):\n",
    "        arr[0]=arr[0]+arr[1]\n",
    "        arr[1]=0\n",
    "    else:\n",
    "        arr[1]=arr[1]-diff\n",
    "        arr[0]=arr[0]+diff\n",
    "    print(arr[0],\"       \",arr[1])"
   ]
  },
  {
   "cell_type": "markdown",
   "id": "237709e5",
   "metadata": {},
   "source": [
    "### Execution"
   ]
  },
  {
   "cell_type": "code",
   "execution_count": 2,
   "id": "ac39bf81",
   "metadata": {},
   "outputs": [
    {
     "name": "stdout",
     "output_type": "stream",
     "text": [
      "                A( 5 )  B( 3 )    \n",
      "-----------------------------------\n",
      "Filling  A to B   2       3\n",
      "Emptying    B     2       0\n",
      "Filling  A to B   0       2\n",
      "Filling     A     5       2\n",
      "Filling  A to B   4       3\n",
      "Goal State Achieved\n"
     ]
    }
   ],
   "source": [
    "#Global Variables\n",
    "a=5\n",
    "b=3\n",
    "arr=[3,2]\n",
    "\n",
    "print(\"                A(\",a,\")  B(\",b,\")    \")\n",
    "print(\"-----------------------------------\")\n",
    "while(1):\n",
    "    if(arr[0]==4):\n",
    "        print('Goal State Achieved')\n",
    "        break\n",
    "    elif(arr[1]==3):\n",
    "        emptyB(arr)\n",
    "    elif(arr[0]==0 and arr[1]==0):\n",
    "        fillA(arr)\n",
    "    elif(arr[0]==0):\n",
    "        fillA(arr)\n",
    "    elif(arr[0]>arr[1]):\n",
    "        AtoB(arr)\n",
    "    elif(arr[1]>arr[0] and arr[0]>0):\n",
    "        emptyB(arr)"
   ]
  },
  {
   "cell_type": "code",
   "execution_count": null,
   "id": "3bd6d5f3",
   "metadata": {},
   "outputs": [],
   "source": []
  }
 ],
 "metadata": {
  "kernelspec": {
   "display_name": "Python 3 (ipykernel)",
   "language": "python",
   "name": "python3"
  },
  "language_info": {
   "codemirror_mode": {
    "name": "ipython",
    "version": 3
   },
   "file_extension": ".py",
   "mimetype": "text/x-python",
   "name": "python",
   "nbconvert_exporter": "python",
   "pygments_lexer": "ipython3",
   "version": "3.9.13"
  }
 },
 "nbformat": 4,
 "nbformat_minor": 5
}
