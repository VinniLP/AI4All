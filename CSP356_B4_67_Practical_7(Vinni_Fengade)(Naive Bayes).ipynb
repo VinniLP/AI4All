{
 "cells": [
  {
   "cell_type": "markdown",
   "id": "29e4273b",
   "metadata": {},
   "source": [
    "## $\\hspace{95pt}$Artificial Intelligence Lab (CSP356)\n",
    "## $\\hspace{110pt}$ Practical  - 7    Naive Bayes"
   ]
  },
  {
   "cell_type": "markdown",
   "id": "04b84956",
   "metadata": {},
   "source": [
    "## Aim :- "
   ]
  },
  {
   "cell_type": "markdown",
   "id": "1baabe95",
   "metadata": {},
   "source": [
    "**Write a program to implement Naïve Bayes algorithm.**"
   ]
  },
  {
   "cell_type": "code",
   "execution_count": 10,
   "id": "f841f708",
   "metadata": {},
   "outputs": [
    {
     "name": "stdout",
     "output_type": "stream",
     "text": [
      "V_nb_yes =  0.014109347442680775\n",
      "V_nb_no  =  0.0\n",
      "V_nb_y   =  1.0\n",
      "V_nb_n   =  0.0\n",
      "Belongs to category : Yes\n"
     ]
    }
   ],
   "source": [
    "Total_Day   = 14\n",
    "Yes         = 9\n",
    "No          = 5\n",
    "\n",
    "\n",
    "P_Yes       = Yes  /  Total_Day;\n",
    "P_No        = No  /  Total_Day;\n",
    "\n",
    "Outlook_sunny_yes     =  2  /  9\n",
    "Outlook_sunny_no      =  3  /  5\n",
    "\n",
    "Outlook_overcast_yes  =  4  /  9\n",
    "Outlook_overcast_no   =  0\n",
    "\n",
    "Outlook_rain_yes      =  3  /  9\n",
    "Outlook_rain_no       =  2  /  5\n",
    "\n",
    "humidity_high_yes     =  3  /  9\n",
    "humidity_high_no      =  4  /  5\n",
    "humidity_normal_yes   =  6  /  9\n",
    "humidity_normal_no    =  1  /  5\n",
    "\n",
    "temp_hot_yes          =  2  /  9\n",
    "temp_hot_no           =  2  /  5\n",
    "temp_mild_yes         =  4  /  9\n",
    "temp_mild_no          =  2  /  5\n",
    "temp_cool_yes         =  3  /  9\n",
    "temp_cool_no          =  1  /  5\n",
    "\n",
    "wind_str_yes          =  3  /  9\n",
    "wind_str_no           =  3  /  5  \n",
    "wind_weak_yes         =  6  /  9\n",
    "wind_weak_no          =  2  /  5\n",
    "\n",
    "\n",
    "V_nb_yes              =  P_Yes  *  Outlook_overcast_yes  *  temp_hot_yes * humidity_high_yes *  wind_weak_yes;\n",
    "print(\"V_nb_yes = \",V_nb_yes)\n",
    "\n",
    "V_nb_no               =  P_No  * Outlook_overcast_no  * temp_hot_no * humidity_high_no * wind_weak_no\n",
    "print(\"V_nb_no  = \",V_nb_no)\n",
    "\n",
    "V_nb_y                =  V_nb_yes  / (V_nb_yes  +  V_nb_no)\n",
    "print(\"V_nb_y   = \",V_nb_y)\n",
    "\n",
    "V_nb_n                =  V_nb_no   / (V_nb_yes  +  V_nb_no)\n",
    "print(\"V_nb_n   = \",V_nb_n)\n",
    "\n",
    "\n",
    "if( V_nb_y > V_nb_n):\n",
    "  print(\"Belongs to category : Yes\")\n",
    "else:\n",
    "  print(\"Belongs to category : No\")"
   ]
  },
  {
   "cell_type": "code",
   "execution_count": null,
   "id": "1e4f71dc",
   "metadata": {},
   "outputs": [],
   "source": []
  }
 ],
 "metadata": {
  "kernelspec": {
   "display_name": "Python 3 (ipykernel)",
   "language": "python",
   "name": "python3"
  },
  "language_info": {
   "codemirror_mode": {
    "name": "ipython",
    "version": 3
   },
   "file_extension": ".py",
   "mimetype": "text/x-python",
   "name": "python",
   "nbconvert_exporter": "python",
   "pygments_lexer": "ipython3",
   "version": "3.9.13"
  }
 },
 "nbformat": 4,
 "nbformat_minor": 5
}
