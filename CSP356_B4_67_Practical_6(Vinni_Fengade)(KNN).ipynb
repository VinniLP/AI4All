{
 "cells": [
  {
   "cell_type": "markdown",
   "id": "21155e62",
   "metadata": {},
   "source": [
    "## $\\hspace{105pt}$Artificial Intelligence Lab (CSP356)\n",
    "## $\\hspace{120pt}$ Practical  - 6    KNN"
   ]
  },
  {
   "cell_type": "markdown",
   "id": "7a438f16",
   "metadata": {},
   "source": [
    "## Aim :- "
   ]
  },
  {
   "cell_type": "markdown",
   "id": "1193cfc0",
   "metadata": {},
   "source": [
    "**Write a program to implement K nearest neighbor algorithm.\n",
    "Randomly generate a data of 20 points having x and y values. Also assign positive values when  x or y component is below 26 and negative values to all other input data. Perform classification by using value of K=1,2,3,4,5.**"
   ]
  },
  {
   "cell_type": "code",
   "execution_count": 45,
   "id": "dbd29bb9",
   "metadata": {},
   "outputs": [],
   "source": [
    "import numpy as np\n",
    "\n",
    "# generate random data\n",
    "np.random.seed(42)\n",
    "X = np.random.randint(0, 50, size=(20,2))\n",
    "Expected_Output = np.where(np.logical_or(X[:,0]<26, X[:,1]<26), 1, -1)"
   ]
  },
  {
   "cell_type": "code",
   "execution_count": 46,
   "id": "cc7e93e0",
   "metadata": {},
   "outputs": [
    {
     "data": {
      "text/plain": [
       "array([[38, 28],\n",
       "       [14, 42],\n",
       "       [ 7, 20],\n",
       "       [38, 18],\n",
       "       [22, 10],\n",
       "       [10, 23],\n",
       "       [35, 39],\n",
       "       [23,  2],\n",
       "       [21,  1],\n",
       "       [23, 43],\n",
       "       [29, 37],\n",
       "       [ 1, 20],\n",
       "       [32, 11],\n",
       "       [21, 43],\n",
       "       [24, 48],\n",
       "       [26, 41],\n",
       "       [27, 15],\n",
       "       [14, 46],\n",
       "       [43,  2],\n",
       "       [36,  6]])"
      ]
     },
     "execution_count": 46,
     "metadata": {},
     "output_type": "execute_result"
    }
   ],
   "source": [
    "X"
   ]
  },
  {
   "cell_type": "code",
   "execution_count": 47,
   "id": "7649cd2b",
   "metadata": {},
   "outputs": [],
   "source": [
    "k=2"
   ]
  },
  {
   "cell_type": "code",
   "execution_count": 48,
   "id": "e07fa9e2",
   "metadata": {},
   "outputs": [],
   "source": [
    "import math"
   ]
  },
  {
   "cell_type": "code",
   "execution_count": 49,
   "id": "47c885f3",
   "metadata": {},
   "outputs": [],
   "source": [
    "def eu_dist(x_test,y_test,x_train,y_train):\n",
    "    dis = math.sqrt((x_test-x_train)**2 +((y_test-y_train)**2))\n",
    "    return dis;    "
   ]
  },
  {
   "cell_type": "code",
   "execution_count": 50,
   "id": "ec41afab",
   "metadata": {},
   "outputs": [],
   "source": [
    "def KNN_algo(test,train,k):\n",
    "    for x in test:\n",
    "        dist = []\n",
    "        for y in (train):\n",
    "            dist.append([y[0],y[1],y[2],eu_dist(x[0],x[1],y[0],y[1])])\n",
    "            \n",
    "#         print(dist)\n",
    "        dist = sorted(dist, key = lambda x: x[-1])\n",
    "        print(\" \")\n",
    "#         print(dist)\n",
    "        \n",
    "        r = []\n",
    "        sum = 0\n",
    "        for i in range(k):\n",
    "            sum = sum + dist[i][2]\n",
    "#             print(sum)\n",
    "            r.append(dist[i])\n",
    "            \n",
    "        x[2] = sum > 0\n",
    "#         print(x[2])\n",
    "        if(sum>0):\n",
    "            print(\"Co ordinate {\",x[0],\",\",x[1],\"} is positive\")\n",
    "        else:\n",
    "            print(\"Co ordinate {\",x[0],\",\",x[1],\"}  is negative\")"
   ]
  },
  {
   "cell_type": "code",
   "execution_count": 51,
   "id": "6b619bf9",
   "metadata": {},
   "outputs": [],
   "source": [
    "train =[]\n",
    "for i in range(len(X)):\n",
    "    train.append([X[i][0],X[i][1],Expected_Output[i]])\n",
    "        "
   ]
  },
  {
   "cell_type": "code",
   "execution_count": 52,
   "id": "dfb408b3",
   "metadata": {},
   "outputs": [],
   "source": [
    "test =[[10,2,-5]]"
   ]
  },
  {
   "cell_type": "code",
   "execution_count": 53,
   "id": "ac03a65a",
   "metadata": {},
   "outputs": [
    {
     "name": "stdout",
     "output_type": "stream",
     "text": [
      " \n",
      "Co ordinate { 10 , 2 } is positive\n"
     ]
    }
   ],
   "source": [
    "KNN_algo(test,train,2)"
   ]
  },
  {
   "cell_type": "code",
   "execution_count": null,
   "id": "d2554eee",
   "metadata": {},
   "outputs": [],
   "source": []
  }
 ],
 "metadata": {
  "kernelspec": {
   "display_name": "Python 3 (ipykernel)",
   "language": "python",
   "name": "python3"
  },
  "language_info": {
   "codemirror_mode": {
    "name": "ipython",
    "version": 3
   },
   "file_extension": ".py",
   "mimetype": "text/x-python",
   "name": "python",
   "nbconvert_exporter": "python",
   "pygments_lexer": "ipython3",
   "version": "3.9.13"
  }
 },
 "nbformat": 4,
 "nbformat_minor": 5
}
