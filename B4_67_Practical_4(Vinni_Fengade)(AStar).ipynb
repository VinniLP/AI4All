{
 "cells": [
  {
   "cell_type": "markdown",
   "id": "5224bfac",
   "metadata": {},
   "source": [
    "## $\\hspace{105pt}$Artificial Intelligence Lab (CSP356)\n",
    "## $\\hspace{100pt}$ Practical 4 - 8 Puzzle using A-Star"
   ]
  },
  {
   "cell_type": "markdown",
   "id": "0eed5a02",
   "metadata": {},
   "source": [
    "## Aim :- "
   ]
  },
  {
   "cell_type": "markdown",
   "id": "6bbc7eec",
   "metadata": {},
   "source": [
    "**Write a program to implement A-Star to solve 8-Puzzle problem.**"
   ]
  },
  {
   "cell_type": "markdown",
   "id": "fba96e7f",
   "metadata": {},
   "source": [
    "### Implementing 8 -Puzzle Problem"
   ]
  },
  {
   "cell_type": "code",
   "execution_count": 1,
   "id": "ff3b4195",
   "metadata": {},
   "outputs": [],
   "source": [
    "class Node:\n",
    "    def __init__(self,data,level,fval):\n",
    "        self.data = data\n",
    "        self.level = level\n",
    "        self.fval = fval\n",
    "\n",
    "    def generate_child(self):\n",
    "        x,y = self.find(self.data,0)\n",
    "        val_list = [[x,y-1],[x,y+1],[x-1,y],[x+1,y]]\n",
    "        children = []\n",
    "        for i in val_list:\n",
    "            child = self.shuffle(self.data,x,y,i[0],i[1])\n",
    "            if child is not None:\n",
    "                child_node = Node(child,self.level+1,0)\n",
    "                children.append(child_node)\n",
    "        return children\n",
    "        \n",
    "    def shuffle(self,puz,x1,y1,x2,y2):\n",
    "        if x2 >= 0 and x2 < len(self.data) and y2 >= 0 and y2 < len(self.data):\n",
    "            temp_puz = []\n",
    "            temp_puz = self.copy(puz)\n",
    "            temp = temp_puz[x2][y2]\n",
    "            temp_puz[x2][y2] = temp_puz[x1][y1]\n",
    "            temp_puz[x1][y1] = temp\n",
    "            return temp_puz\n",
    "        else:\n",
    "            return None\n",
    "            \n",
    "\n",
    "    def copy(self,root):\n",
    "        temp = []\n",
    "        for i in root:\n",
    "            t = []\n",
    "            for j in i:\n",
    "                t.append(j)\n",
    "            temp.append(t)\n",
    "        return temp    \n",
    "            \n",
    "    def find(self,puz,x):\n",
    "        print(len(self.data))\n",
    "        for i in range(0,len(self.data)):\n",
    "            for j in range(0,len(self.data[0])):\n",
    "                if (puz[i][j]) == (x):\n",
    "                    return i,j"
   ]
  },
  {
   "cell_type": "code",
   "execution_count": 5,
   "id": "64ce1945",
   "metadata": {},
   "outputs": [],
   "source": [
    "class Puzzle:\n",
    "    def __init__(self,size):\n",
    "        self.n = size\n",
    "        self.open = []\n",
    "        self.closed = []\n",
    "\n",
    "    def f(self,start,goal):\n",
    "        return self.h(start.data,goal)+start.level\n",
    "\n",
    "    def h(self,start,goal):\n",
    "        temp = 0\n",
    "        for i in range(0,self.n):\n",
    "            for j in range(0,self.n):\n",
    "                if start[i][j] != goal[i][j] and start[i][j] != '_':\n",
    "                    temp += 1\n",
    "#         print(temp)\n",
    "        return temp\n",
    "    \n",
    "    def process(self):\n",
    "        ioo=1\n",
    "        start = Node(sstart,0,0)\n",
    "#         print(\"ggg\",type(start))     \n",
    "        goal=ggoal\n",
    "        start.fval = self.f(start,goal)\n",
    "        self.open.append(start)\n",
    "#         print(self.open[0].data)\n",
    "        print(\"\\n\\n\")\n",
    "        while True:\n",
    "            cur = self.open[0]\n",
    "            if(ioo!=1):\n",
    "                print(\"\")\n",
    "                print(\"  | \")\n",
    "                print(\"  | \")\n",
    "                print(\" \\\\\\'/ \\n\")\n",
    "            ioo+=1\n",
    "            for i in cur.data:\n",
    "                for j in i:\n",
    "                    print(j,end=\" \")\n",
    "                print(\"\")\n",
    "            if(self.h(cur.data,goal) == 0):\n",
    "                break\n",
    "            for i in cur.generate_child():\n",
    "                i.fval = self.f(i,goal)\n",
    "                self.open.append(i)\n",
    "            self.closed.append(cur)\n",
    "            del self.open[0]\n",
    "            self.open.sort(key = lambda x:x.fval,reverse=False)"
   ]
  },
  {
   "cell_type": "markdown",
   "id": "237709e5",
   "metadata": {},
   "source": [
    "### Execution"
   ]
  },
  {
   "cell_type": "code",
   "execution_count": 6,
   "id": "ac39bf81",
   "metadata": {},
   "outputs": [
    {
     "name": "stdout",
     "output_type": "stream",
     "text": [
      "\n",
      "\n",
      "\n",
      "1 2 3 \n",
      "4 5 6 \n",
      "0 7 8 \n",
      "3\n",
      "\n",
      "  | \n",
      "  | \n",
      " \\'/ \n",
      "\n",
      "1 2 3 \n",
      "4 5 6 \n",
      "7 0 8 \n",
      "3\n",
      "\n",
      "  | \n",
      "  | \n",
      " \\'/ \n",
      "\n",
      "1 2 3 \n",
      "4 5 6 \n",
      "7 8 0 \n"
     ]
    }
   ],
   "source": [
    "#Global Variables\n",
    "sstart = [[1,2,3],[4,5,6],[0,7,8]]\n",
    "ggoal  = [[1,2,3],[4,5,6],[7,8,0]]\n",
    "puz = Puzzle(3)\n",
    "puz.process()"
   ]
  },
  {
   "cell_type": "code",
   "execution_count": null,
   "id": "3bd6d5f3",
   "metadata": {},
   "outputs": [],
   "source": [
    "\n"
   ]
  }
 ],
 "metadata": {
  "kernelspec": {
   "display_name": "Python 3 (ipykernel)",
   "language": "python",
   "name": "python3"
  },
  "language_info": {
   "codemirror_mode": {
    "name": "ipython",
    "version": 3
   },
   "file_extension": ".py",
   "mimetype": "text/x-python",
   "name": "python",
   "nbconvert_exporter": "python",
   "pygments_lexer": "ipython3",
   "version": "3.9.13"
  }
 },
 "nbformat": 4,
 "nbformat_minor": 5
}
